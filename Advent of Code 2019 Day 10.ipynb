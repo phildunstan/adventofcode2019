{
 "cells": [
  {
   "cell_type": "markdown",
   "execution_count": null,
   "metadata": {},
   "outputs": [],
   "source": [
    "https://adventofcode.com/2019"
   ]
  },
  {
   "cell_type": "markdown",
   "execution_count": null,
   "metadata": {},
   "outputs": [],
   "source": [
    "# Day 10\n",
    "\n",
    "## Part 1"
   ]
  },
  {
   "cell_type": "code",
   "execution_count": 71,
   "metadata": {},
   "outputs": [],
   "source": [
    "map_text = \"\"\"#.....#...#.........###.#........#..\n",
    "....#......###..#.#.###....#......##\n",
    "......#..###.......#.#.#.#..#.......\n",
    "......#......#.#....#.##....##.#.#.#\n",
    "...###.#.#.......#..#...............\n",
    "....##...#..#....##....#...#.#......\n",
    "..##...#.###.....##....#.#..##.##...\n",
    "..##....#.#......#.#...#.#...#.#....\n",
    ".#.##..##......##..#...#.....##...##\n",
    ".......##.....#.....##..#..#..#.....\n",
    "..#..#...#......#..##...#.#...#...##\n",
    "......##.##.#.#.###....#.#..#......#\n",
    "#..#.#...#.....#...#...####.#..#...#\n",
    "...##...##.#..#.....####.#....##....\n",
    ".#....###.#...#....#..#......#......\n",
    ".##.#.#...#....##......#.....##...##\n",
    ".....#....###...#.....#....#........\n",
    "...#...#....##..#.#......#.#.#......\n",
    ".#..###............#.#..#...####.##.\n",
    ".#.###..#.....#......#..###....##..#\n",
    "#......#.#.#.#.#.#...#.#.#....##....\n",
    ".#.....#.....#...##.#......#.#...#..\n",
    "...##..###.........##.........#.....\n",
    "..#.#..#.#...#.....#.....#...###.#..\n",
    ".#..........#.......#....#..........\n",
    "...##..#..#...#..#...#......####....\n",
    ".#..#...##.##..##..###......#.......\n",
    ".##.....#.......#..#...#..#.......#.\n",
    "#.#.#..#..##..#..............#....##\n",
    "..#....##......##.....#...#...##....\n",
    ".##..##..#.#..#.................####\n",
    "##.......#..#.#..##..#...#..........\n",
    "#..##...#.##.#.#.........#..#..#....\n",
    ".....#...#...#.#......#....#........\n",
    "....#......###.#..#......##.....#..#\n",
    "#..#...##.........#.....##.....#....\"\"\"\n"
   ]
  },
  {
   "cell_type": "code",
   "execution_count": 72,
   "metadata": {},
   "outputs": [],
   "source": [
    "def parse_asteroid_map(map_text):\n",
    "    asteroids = []\n",
    "    y = 0\n",
    "    for row in map_text.split():\n",
    "        x = 0\n",
    "        for cell in row:\n",
    "            if cell != '.':\n",
    "                asteroids.append((x, y))\n",
    "            x += 1\n",
    "        y += 1\n",
    "    # print(asteroids)\n",
    "    return asteroids\n",
    "\n",
    "def has_los(asteroid, test_asteroid, asteroids):\n",
    "    if asteroid[0] == test_asteroid[0]:\n",
    "        for y in range(min(asteroid[1], test_asteroid[1]) + 1, max(asteroid[1], test_asteroid[1])):\n",
    "            if (asteroid[0], y) in asteroids:\n",
    "                return False\n",
    "        return True\n",
    "    elif asteroid[1] == test_asteroid[1]:\n",
    "        for x in range(min(asteroid[0], test_asteroid[0]) + 1, max(asteroid[0], test_asteroid[0])):\n",
    "            if (x, asteroid[1]) in asteroids:\n",
    "                return False\n",
    "        return True\n",
    "    else:\n",
    "        from_asteroid = asteroid\n",
    "        to_asteroid = test_asteroid\n",
    "        if asteroid[0] > test_asteroid[0]:\n",
    "            from_asteroid = test_asteroid\n",
    "            to_asteroid = asteroid\n",
    "        diff = (to_asteroid[0] - from_asteroid[0], to_asteroid[1] - from_asteroid[1])\n",
    "        if diff[1] > diff[0]:\n",
    "            pass\n",
    "        for x in range(from_asteroid[0] + 1, to_asteroid[0]):\n",
    "            y = from_asteroid[1] + (x - from_asteroid[0])\n",
    "            if (x, y) in asteroids:\n",
    "                return False\n",
    "        return True\n",
    "    return True\n",
    "\n",
    "def count_visible_asteroids(asteroid, asteroids):\n",
    "    count = 0\n",
    "    min_x = min(asteroids, key = lambda k: k[0])[0]\n",
    "    max_x = max(asteroids, key = lambda k: k[0])[0]\n",
    "    min_y = min(asteroids, key = lambda k: k[1])[1]\n",
    "    max_y = max(asteroids, key = lambda k: k[1])[1]\n",
    "    width = max_x - min_x\n",
    "    height = max_y - min_y\n",
    "    # for y in range (1, height + 1):\n",
    "    #     for x in range (1, width + 1):\n",
    "    # for test_asteroid in asteroids:\n",
    "    #     if test_asteroid == asteroid:\n",
    "    #         continue\n",
    "    #     if has_los(asteroid, test_asteroid, asteroids):\n",
    "    #         count += 1\n",
    "    return count\n",
    "\n",
    "def find_best_asteroid(map_text):\n",
    "    best = (0,0)\n",
    "    best_visibility_count = 0\n",
    "    asteroids = parse_asteroid_map(map_text)\n",
    "    for asteroid in asteroids:\n",
    "        visibility_count = count_visible_asteroids(asteroid, asteroids)\n",
    "        print(\"{} -> {}\".format(asteroid, visibility_count))\n",
    "        if visibility_count > best_visibility_count:\n",
    "            best = asteroid\n",
    "            best_visibility_count = visibility_count\n",
    "    return (best, best_visibility_count)"
   ]
  },
  {
   "cell_type": "code",
   "execution_count": 73,
   "metadata": {},
   "outputs": [
    {
     "name": "stdout",
     "output_type": "stream",
     "text": "(1, 0) -> 0\n(4, 0) -> 0\n(0, 2) -> 0\n(1, 2) -> 0\n(2, 2) -> 0\n(3, 2) -> 0\n(4, 2) -> 0\n(4, 3) -> 0\n(3, 4) -> 0\n(4, 4) -> 0\n((0, 0), 0)\n"
    }
   ],
   "source": [
    "test_map_text = \"\"\".#..#\n",
    ".....\n",
    "#####\n",
    "....#\n",
    "...##\"\"\"\n",
    "best_asteroid = find_best_asteroid(test_map_text)\n",
    "print(best_asteroid)"
   ]
  },
  {
   "cell_type": "code",
   "execution_count": 74,
   "metadata": {},
   "outputs": [],
   "source": [
    "asteroids = parse_asteroid_map(map_text)"
   ]
  },
  {
   "cell_type": "markdown",
   "execution_count": null,
   "metadata": {},
   "outputs": [],
   "source": [
    "# Part 2"
   ]
  }
 ],
 "metadata": {
  "kernelspec": {
   "display_name": "Python 3",
   "language": "python",
   "name": "python3"
  },
  "language_info": {
   "codemirror_mode": {
    "name": "ipython",
    "version": 3
   },
   "file_extension": ".py",
   "mimetype": "text/x-python",
   "name": "python",
   "nbconvert_exporter": "python",
   "pygments_lexer": "ipython3",
   "version": "3.7.5-final"
  }
 },
 "nbformat": 4,
 "nbformat_minor": 2
}