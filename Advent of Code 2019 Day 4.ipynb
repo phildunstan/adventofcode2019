{
 "cells": [
  {
   "cell_type": "markdown",
   "execution_count": null,
   "metadata": {},
   "outputs": [],
   "source": [
    "https://adventofcode.com/2019"
   ]
  },
  {
   "cell_type": "markdown",
   "metadata": {},
   "source": [
    "# Day 4\n",
    "\n",
    "## Part 1"
   ]
  },
  {
   "cell_type": "code",
   "execution_count": 1,
   "metadata": {},
   "outputs": [
    {
     "name": "stdout",
     "output_type": "stream",
     "text": "1653\n"
    }
   ],
   "source": [
    "def count_valid_passwords(min_range, max_range):\n",
    "    count = 0\n",
    "    for x in range(min_range, max_range + 1):\n",
    "        d5 = int((x/100000) % 10)\n",
    "        d4 = int((x/10000) % 10)\n",
    "        d3 = int((x/1000) % 10)\n",
    "        d2 = int((x/100) % 10)\n",
    "        d1 = int((x/10) % 10)\n",
    "        d0 = int(x % 10)\n",
    "        if (d4 < d5) or (d3 < d4) or (d2 < d3) or (d1 < d2) or (d0 < d1):\n",
    "            continue\n",
    "        if (d4 != d5) and (d3 != d4) and (d2 != d3) and (d1 != d2) and (d0 != d1):\n",
    "            continue\n",
    "        count += 1\n",
    "    return count\n",
    "\n",
    "print(count_valid_passwords(206938,679128))"
   ]
  },
  {
   "cell_type": "markdown",
   "metadata": {},
   "source": [
    "## Part 2"
   ]
  },
  {
   "cell_type": "code",
   "execution_count": 2,
   "metadata": {},
   "outputs": [
    {
     "name": "stdout",
     "output_type": "stream",
     "text": "1133\n"
    }
   ],
   "source": [
    "def count_valid_passwords_part2(min_range, max_range):\n",
    "    count = 0\n",
    "    for x in range(min_range, max_range + 1):\n",
    "        d5 = int((x/100000) % 10)\n",
    "        d4 = int((x/10000) % 10)\n",
    "        d3 = int((x/1000) % 10)\n",
    "        d2 = int((x/100) % 10)\n",
    "        d1 = int((x/10) % 10)\n",
    "        d0 = int(x % 10)\n",
    "        if (d4 < d5) or (d3 < d4) or (d2 < d3) or (d1 < d2) or (d0 < d1):\n",
    "            continue\n",
    "        if ((d4 != d5) or (d3 == d4)) and ((d3 != d4) or (d4 == d5) or (d2 == d3)) and ((d2 != d3) or (d3 == d4) or (d1 == d2)) and ((d1 != d2) or (d2 == d3) or (d0 == d1)) and ((d0 != d1) or (d1 == d2)):\n",
    "            continue\n",
    "        count += 1\n",
    "    return count\n",
    "\n",
    "print(count_valid_passwords_part2(206938,679128))"
   ]
  }
 ],
 "metadata": {
  "kernelspec": {
   "display_name": "Python 3",
   "language": "python",
   "name": "python3"
  },
  "language_info": {
   "codemirror_mode": {
    "name": "ipython",
    "version": 3
   },
   "file_extension": ".py",
   "mimetype": "text/x-python",
   "name": "python",
   "nbconvert_exporter": "python",
   "pygments_lexer": "ipython3",
   "version": "3.7.5-final"
  }
 },
 "nbformat": 4,
 "nbformat_minor": 2
}