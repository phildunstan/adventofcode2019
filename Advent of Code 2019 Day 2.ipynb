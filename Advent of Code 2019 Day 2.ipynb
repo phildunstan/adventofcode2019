{
 "cells": [
  {
   "cell_type": "markdown",
   "execution_count": null,
   "metadata": {},
   "outputs": [],
   "source": [
    "https://adventofcode.com/2019"
   ]
  },
  {
   "cell_type": "markdown",
   "metadata": {},
   "source": [
    "# Day 2\n",
    "\n",
    "## Part 1"
   ]
  },
  {
   "cell_type": "code",
   "execution_count": 5,
   "metadata": {},
   "outputs": [],
   "source": [
    "program_text = \"1,0,0,3,1,1,2,3,1,3,4,3,1,5,0,3,2,10,1,19,1,6,19,23,1,23,13,27,2,6,27,31,1,5,31,35,2,10,35,39,1,6,39,43,1,13,43,47,2,47,6,51,1,51,5,55,1,55,6,59,2,59,10,63,1,63,6,67,2,67,10,71,1,71,9,75,2,75,10,79,1,79,5,83,2,10,83,87,1,87,6,91,2,9,91,95,1,95,5,99,1,5,99,103,1,103,10,107,1,9,107,111,1,6,111,115,1,115,5,119,1,10,119,123,2,6,123,127,2,127,6,131,1,131,2,135,1,10,135,0,99,2,0,14,0\"\n",
    "program = [int(x) for x in program_text.split(',')]"
   ]
  },
  {
   "cell_type": "code",
   "execution_count": 6,
   "metadata": {},
   "outputs": [],
   "source": [
    "def opcode_add(memory, ip):\n",
    "    parameter2 = memory[ip+1]\n",
    "    parameter3 = memory[ip+2]\n",
    "    parameter4 = memory[ip+3]\n",
    "    memory[parameter4] = memory[parameter2] + memory[parameter3]\n",
    "    return ip + 4\n",
    "\n",
    "def opcode_multiply(memory, ip):\n",
    "    parameter2 = memory[ip+1]\n",
    "    parameter3 = memory[ip+2]\n",
    "    parameter4 = memory[ip+3]\n",
    "    memory[parameter4] = memory[parameter2] * memory[parameter3]\n",
    "    return ip + 4\n",
    "\n",
    "opcode_handlers = {\n",
    "    1: opcode_add,\n",
    "    2: opcode_multiply\n",
    "}\n",
    "\n",
    "def run_program(memory):\n",
    "    global opcode_handlers\n",
    "    ip = 0\n",
    "    opcode = memory[ip]\n",
    "    while opcode != 99:\n",
    "        if opcode in opcode_handlers:\n",
    "            opcode_handler = opcode_handlers[opcode]\n",
    "            ip = opcode_handler(memory, ip)\n",
    "        else:\n",
    "            print(\"opcode {} not implemented\".format(opcode))\n",
    "            return 1\n",
    "        opcode = memory[ip]\n",
    "    ip += 1\n",
    "    return 0\n",
    "\n",
    "test_program1 = [1,0,0,0,99]\n",
    "assert run_program(test_program1) == 0\n",
    "assert test_program1 == [2,0,0,0,99]\n",
    "\n",
    "test_program2 = [2,3,0,3,99]\n",
    "assert run_program(test_program2) == 0\n",
    "assert test_program2 == [2,3,0,6,99]\n",
    "\n",
    "test_program3 = [2,4,4,5,99,0]\n",
    "assert run_program(test_program3) == 0\n",
    "assert test_program3 == [2,4,4,5,99,9801]\n",
    "\n",
    "test_program4 = [1,1,1,4,99,5,6,0,99]\n",
    "assert run_program(test_program4) == 0\n",
    "assert test_program4 == [30,1,1,4,2,5,6,0,99]"
   ]
  },
  {
   "cell_type": "markdown",
   "metadata": {},
   "source": [
    "## Part 2"
   ]
  },
  {
   "cell_type": "code",
   "execution_count": 8,
   "metadata": {},
   "outputs": [
    {
     "name": "stdout",
     "output_type": "stream",
     "text": "9820\n"
    }
   ],
   "source": [
    "def find_noun_and_verb(program, value):\n",
    "    for a in range(99):\n",
    "        for b in range(99):\n",
    "            memory = program[:]\n",
    "            memory[1] = a\n",
    "            memory[2] = b\n",
    "            return_code = run_program(memory)\n",
    "            assert return_code == 0\n",
    "            if memory[0] == value:\n",
    "                return [a, b]\n",
    "    return None\n",
    "\n",
    "noun, verb = find_noun_and_verb(program, 19690720)\n",
    "print(100 * noun + verb)"
   ]
  }
 ],
 "metadata": {
  "kernelspec": {
   "display_name": "Python 3",
   "language": "python",
   "name": "python3"
  },
  "language_info": {
   "codemirror_mode": {
    "name": "ipython",
    "version": 3
   },
   "file_extension": ".py",
   "mimetype": "text/x-python",
   "name": "python",
   "nbconvert_exporter": "python",
   "pygments_lexer": "ipython3",
   "version": "3.7.5-final"
  }
 },
 "nbformat": 4,
 "nbformat_minor": 2
}