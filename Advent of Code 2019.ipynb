{
 "cells": [
  {
   "cell_type": "markdown",
   "metadata": {},
   "source": [
    "# Day 1\n",
    "\n",
    "## Part 1"
   ]
  },
  {
   "cell_type": "code",
   "execution_count": 116,
   "metadata": {},
   "outputs": [],
   "source": [
    "module_mass_text = \"\"\"95815\n",
    "58493\n",
    "77277\n",
    "57491\n",
    "124211\n",
    "134530\n",
    "86842\n",
    "63308\n",
    "139649\n",
    "75958\n",
    "74312\n",
    "63413\n",
    "128293\n",
    "118123\n",
    "108576\n",
    "105474\n",
    "50366\n",
    "63203\n",
    "119792\n",
    "147054\n",
    "110863\n",
    "51551\n",
    "101243\n",
    "108123\n",
    "108229\n",
    "76988\n",
    "126344\n",
    "81759\n",
    "74582\n",
    "131239\n",
    "143408\n",
    "53126\n",
    "134275\n",
    "142797\n",
    "61548\n",
    "104641\n",
    "134200\n",
    "103371\n",
    "67804\n",
    "53892\n",
    "94285\n",
    "115017\n",
    "61553\n",
    "66873\n",
    "103186\n",
    "108708\n",
    "71366\n",
    "63572\n",
    "137981\n",
    "72784\n",
    "140697\n",
    "125710\n",
    "121386\n",
    "131305\n",
    "61645\n",
    "81485\n",
    "82042\n",
    "148145\n",
    "75070\n",
    "72671\n",
    "146981\n",
    "124797\n",
    "85756\n",
    "62383\n",
    "147575\n",
    "56740\n",
    "103299\n",
    "63511\n",
    "145914\n",
    "114995\n",
    "73657\n",
    "118481\n",
    "105351\n",
    "102848\n",
    "118796\n",
    "139936\n",
    "112388\n",
    "80794\n",
    "128850\n",
    "92493\n",
    "65409\n",
    "60445\n",
    "124267\n",
    "110438\n",
    "145208\n",
    "96697\n",
    "116439\n",
    "71484\n",
    "71588\n",
    "89813\n",
    "81525\n",
    "88200\n",
    "86443\n",
    "79786\n",
    "131067\n",
    "105919\n",
    "126045\n",
    "135292\n",
    "117451\n",
    "67730\"\"\"\n",
    "module_masses = [int(x) for x in module_mass_text.split()]"
   ]
  },
  {
   "cell_type": "code",
   "execution_count": 117,
   "metadata": {},
   "outputs": [],
   "source": [
    "def calculate_fuel_required_for_mass(mass):\n",
    "        fuel = int(mass / 3) - 2\n",
    "        return fuel\n",
    "    \n",
    "assert calculate_fuel_required_for_mass(1969) == 654\n",
    "assert calculate_fuel_required_for_mass(100756) == 33583\n"
   ]
  },
  {
   "cell_type": "code",
   "execution_count": 118,
   "metadata": {},
   "outputs": [
    {
     "name": "stdout",
     "output_type": "stream",
     "text": [
      "3297909\n"
     ]
    }
   ],
   "source": [
    "def calculate_fuel_for_modules(module_masses):\n",
    "    return sum(calculate_fuel_required_for_mass(m) for m in module_masses)\n",
    "\n",
    "print(calculate_fuel_for_modules(module_masses))"
   ]
  },
  {
   "cell_type": "markdown",
   "metadata": {},
   "source": [
    "## Part 2"
   ]
  },
  {
   "cell_type": "code",
   "execution_count": 119,
   "metadata": {},
   "outputs": [
    {
     "name": "stdout",
     "output_type": "stream",
     "text": [
      "4943994\n"
     ]
    }
   ],
   "source": [
    "def calculate_fuel_required_for_mass_recursive(mass):\n",
    "    fuel = int(mass / 3) - 2\n",
    "    if fuel <= 0:\n",
    "        return 0\n",
    "    else:\n",
    "        return fuel + calculate_fuel_required_for_mass_recursive(fuel)\n",
    "    \n",
    "def calculate_fuel_required_for_modules_recursive(module_masses):\n",
    "    return sum(calculate_fuel_required_for_mass_recursive(m) for m in module_masses)\n",
    "\n",
    "print(calculate_fuel_required_for_modules_recursive(module_masses))"
   ]
  },
  {
   "cell_type": "markdown",
   "metadata": {},
   "source": [
    "# Day 2\n",
    "\n",
    "## Part 1"
   ]
  },
  {
   "cell_type": "code",
   "execution_count": 120,
   "metadata": {},
   "outputs": [],
   "source": [
    "program_text = \"1,0,0,3,1,1,2,3,1,3,4,3,1,5,0,3,2,10,1,19,1,6,19,23,1,23,13,27,2,6,27,31,1,5,31,35,2,10,35,39,1,6,39,43,1,13,43,47,2,47,6,51,1,51,5,55,1,55,6,59,2,59,10,63,1,63,6,67,2,67,10,71,1,71,9,75,2,75,10,79,1,79,5,83,2,10,83,87,1,87,6,91,2,9,91,95,1,95,5,99,1,5,99,103,1,103,10,107,1,9,107,111,1,6,111,115,1,115,5,119,1,10,119,123,2,6,123,127,2,127,6,131,1,131,2,135,1,10,135,0,99,2,0,14,0\"\n",
    "program = [int(x) for x in program_text.split(',')]"
   ]
  },
  {
   "cell_type": "code",
   "execution_count": 121,
   "metadata": {},
   "outputs": [],
   "source": [
    "def opcode_add(memory, ip):\n",
    "    parameter2 = memory[ip+1]\n",
    "    parameter3 = memory[ip+2]\n",
    "    parameter4 = memory[ip+3]\n",
    "    memory[parameter4] = memory[parameter2] + memory[parameter3]\n",
    "    return ip + 4\n",
    "\n",
    "def opcode_multiply(memory, ip):\n",
    "    parameter2 = memory[ip+1]\n",
    "    parameter3 = memory[ip+2]\n",
    "    parameter4 = memory[ip+3]\n",
    "    memory[parameter4] = memory[parameter2] * memory[parameter3]\n",
    "    return ip + 4\n",
    "\n",
    "opcode_handlers = {\n",
    "    1: opcode_add,\n",
    "    2: opcode_multiply\n",
    "}\n",
    "\n",
    "def run_program(memory):\n",
    "    global opcode_handlers\n",
    "    ip = 0\n",
    "    opcode = memory[ip]\n",
    "    while opcode != 99:\n",
    "        if opcode in opcode_handlers:\n",
    "            opcode_handler = opcode_handlers[opcode]\n",
    "            ip = opcode_handler(memory, ip)\n",
    "        else:\n",
    "            print(\"opcode {} not implemented\".format(opcode))\n",
    "            return 1\n",
    "        opcode = memory[ip]\n",
    "    ip += 1\n",
    "    return 0\n",
    "\n",
    "test_program1 = [1,0,0,0,99]\n",
    "assert run_program(test_program1) == 0\n",
    "assert test_program1 == [2,0,0,0,99]\n",
    "\n",
    "test_program2 = [2,3,0,3,99]\n",
    "assert run_program(test_program2) == 0\n",
    "assert test_program2 == [2,3,0,6,99]\n",
    "\n",
    "test_program3 = [2,4,4,5,99,0]\n",
    "assert run_program(test_program3) == 0\n",
    "assert test_program3 == [2,4,4,5,99,9801]\n",
    "\n",
    "test_program4 = [1,1,1,4,99,5,6,0,99]\n",
    "assert run_program(test_program4) == 0\n",
    "assert test_program4 == [30,1,1,4,2,5,6,0,99]"
   ]
  },
  {
   "cell_type": "code",
   "execution_count": 122,
   "metadata": {},
   "outputs": [
    {
     "name": "stdout",
     "output_type": "stream",
     "text": [
      "2782414\n"
     ]
    }
   ],
   "source": [
    "memory = program[:]\n",
    "memory[1] = 12\n",
    "memory[2] = 2\n",
    "return_code = run_program(memory)\n",
    "assert return_code == 0\n",
    "print(memory[0])"
   ]
  },
  {
   "cell_type": "markdown",
   "metadata": {},
   "source": [
    "## Part 2"
   ]
  },
  {
   "cell_type": "code",
   "execution_count": 123,
   "metadata": {},
   "outputs": [
    {
     "name": "stdout",
     "output_type": "stream",
     "text": [
      "9820\n"
     ]
    }
   ],
   "source": [
    "def find_noun_and_verb(program, value):\n",
    "    for a in range(99):\n",
    "        for b in range(99):\n",
    "            memory = program[:]\n",
    "            memory[1] = a\n",
    "            memory[2] = b\n",
    "            return_code = run_program(memory)\n",
    "            assert return_code == 0\n",
    "            if memory[0] == value:\n",
    "                return [a, b]\n",
    "    return None\n",
    "\n",
    "noun, verb = find_noun_and_verb(program, 19690720)\n",
    "print(100 * noun + verb)"
   ]
  },
  {
   "cell_type": "markdown",
   "metadata": {},
   "source": [
    "# Day 3\n",
    "\n",
    "## Part 1"
   ]
  },
  {
   "cell_type": "code",
   "execution_count": 127,
   "metadata": {},
   "outputs": [],
   "source": [
    "wires_text = \"\"\"R998,U367,R735,U926,R23,U457,R262,D473,L353,U242,L930,U895,R321,U683,L333,U623,R105,D527,R437,D473,L100,D251,L958,U384,R655,U543,L704,D759,R529,D176,R835,U797,R453,D650,L801,U437,L468,D841,R928,D747,L803,U677,R942,D851,R265,D684,L206,U763,L566,U774,L517,U337,L86,D585,R212,U656,L799,D953,L24,U388,L465,U656,L467,U649,R658,U519,L966,D290,L979,D819,R208,D907,R941,D458,L882,U408,R539,D939,R557,D771,L448,U460,L586,U148,R678,U360,R715,U312,L12,D746,L958,U216,R275,D278,L368,U663,L60,D543,L605,D991,L369,D599,R464,D387,L835,D876,L810,U377,L521,U113,L803,U680,L732,D449,R891,D558,L25,U249,L264,U643,L544,U504,R876,U403,R950,U19,L224,D287,R28,U914,R906,U970,R335,U295,R841,D810,R891,D596,R451,D79,R924,U823,L724,U968,R342,D349,R656,U373,R864,U374,L401,D102,L730,D886,R268,D188,R621,U258,L788,U408,L199,D422,R101,U368,L636,U543,R7,U722,L533,U242,L340,D195,R158,D291,L84,U936,L570,D937,L321,U947,L707,U32,L56,U650,L427,U490,L472,U258,R694,U87,L887,U575,R826,D398,R602,U794,R855,U225,R435,U591,L58,U281,L834,D400,R89,D201,L328,U278,L494,D70,L770,D182,L251,D44,R753,U431,R573,D71,R809,U983,L159,U26,R540,U516,R5,D23,L603,U65,L260,D187,R973,U877,R110,U49,L502,D68,R32,U153,R495,D315,R720,D439,R264,D603,R717,U586,R732,D111,R997,U578,L243,U256,R147,D425,L141,U758,R451,U779,R964,D219,L151,D789,L496,D484,R627,D431,R433,D761,R355,U975,L983,U364,L200,U578,L488,U668,L48,D774,R438,D456,L819,D927,R831,D598,L437,U979,R686,U930,L454,D553,L77,D955,L98,U201,L724,U211,R501,U492,L495,U732,L511\n",
    "L998,U949,R912,D186,R359,D694,L878,U542,L446,D118,L927,U175,R434,U473,R147,D54,R896,U890,R300,D537,R254,D322,R758,D690,R231,U269,R288,U968,R638,U192,L732,D355,R879,U451,R336,D872,L141,D842,L126,U584,L973,D940,R890,D75,L104,U340,L821,D590,R577,U859,L948,D199,L872,D751,L368,U506,L308,U827,R181,U94,R670,U901,R739,D48,L985,D801,R722,D597,R654,D606,R183,U646,R939,U677,R32,U936,L541,D934,R316,U354,L415,D930,R572,U571,R147,D609,L534,D406,R872,D527,L816,D960,R652,D429,L402,D858,R374,D930,L81,U106,R977,U251,R917,U966,R353,U732,L613,U280,L713,D937,R481,U52,R746,U203,L500,D557,L209,U249,R89,D58,L149,U872,R331,D460,R343,D423,R392,D160,L876,U981,L399,D642,R525,U515,L537,U113,R886,D516,L301,D680,L236,U399,R460,D869,L942,D280,R669,U476,R683,D97,R199,D444,R137,D489,L704,D120,R753,D100,L737,U375,L495,D325,R48,D269,R575,U895,L184,D10,L502,D610,R618,D744,R585,U861,R695,D775,L942,U64,L819,U161,L332,U513,L461,D366,R273,D493,L197,D97,L6,U63,L564,U59,L699,U30,L68,U861,R35,U564,R540,U371,L115,D595,L412,D781,L185,D41,R207,D264,R999,D799,R421,D117,R377,D571,R268,D947,R77,D2,R712,D600,L516,U389,L868,D762,L996,U205,L178,D339,L844,D629,R67,D732,R109,D858,R630,U470,L121,D542,L751,U353,L61,U770,R952,U703,R264,D537,L569,U55,L795,U389,R836,U166,R585,U275,L734,U966,L130,D357,L260,U719,L647,D606,R547,U575,R791,U686,L597,D486,L774,U386,L163,U912,L234,D238,L948,U279,R789,U300,R117,D28,L833,U835,L340,U693,R343,D573,R882,D241,L731,U812,R600,D663,R902,U402,R831,D802,L577,U920,L947,D538,L192\"\"\"\n",
    "def parse_wires_text(wires_text):\n",
    "    wires = []\n",
    "    for wire_text in wires_text.split():\n",
    "        wires.append(wire_text.split(','))\n",
    "    return wires\n",
    "wires = parse_wires_text(wires_text)"
   ]
  },
  {
   "cell_type": "code",
   "execution_count": null,
   "metadata": {},
   "outputs": [],
   "source": [
    "def generate_wire_visit_set(wire_instructions):\n",
    "    pos = (0, 0)\n",
    "    visit_set = {pos}\n",
    "    for instruction in wire_instructions:\n",
    "        direction = instruction[0]\n",
    "        count = int(instruction[1:])\n",
    "        if direction == 'U':\n",
    "            for x in range(count):\n",
    "                pos = (pos[0], pos[1] - 1)\n",
    "                visit_set.add(pos)\n",
    "        if direction == 'D':\n",
    "            for x in range(count):\n",
    "                pos = (pos[0], pos[1] + 1)\n",
    "                visit_set.add(pos)\n",
    "        if direction == 'L':\n",
    "            for x in range(count):\n",
    "                pos = (pos[0] - 1, pos[1])\n",
    "                visit_set.add(pos)\n",
    "        if direction == 'R':\n",
    "            for x in range(count):\n",
    "                pos = (pos[0] + 1, pos[1])\n",
    "                visit_set.add(pos)\n",
    "    return visit_set\n",
    "\n",
    "def generate_wire_intersections(visit_set_1, visit_set_2):\n",
    "    intersection = visit_set_1.intersection(visit_set_2)\n",
    "    intersection.remove((0, 0))\n",
    "    return intersection\n",
    "\n",
    "def find_closest_intersection_distance(wires):\n",
    "    visit_set_1 = generate_wire_visit_set(wires[0])\n",
    "    visit_set_2 = generate_wire_visit_set(wires[1])\n",
    "    intersections = generate_wire_intersections(visit_set_1, visit_set_2)\n",
    "    intersection_distances = [abs(p[0]) + abs(p[1]) for p in intersections]\n",
    "    return min(intersection_distances)\n",
    "\n",
    "test_wires1 = parse_wires_text(\"\"\"R8,U5,L5,D3\n",
    "U7,R6,D4,L4\"\"\")\n",
    "assert find_closest_intersection_distance(test_wires1) == 6\n",
    "\n",
    "test_wires2 = parse_wires_text(\"\"\"R75,D30,R83,U83,L12,D49,R71,U7,L72\n",
    "U62,R66,U55,R34,D71,R55,D58,R83\"\"\")\n",
    "assert find_closest_intersection_distance(test_wires2) == 159\n",
    "\n",
    "test_wires3 = parse_wires_text(\"\"\"R98,U47,R26,D63,R33,U87,L62,D20,R33,U53,R51\n",
    "U98,R91,D20,R16,D67,R40,U7,R15,U6,R7\"\"\")\n",
    "assert find_closest_intersection_distance(test_wires3) == 135"
   ]
  },
  {
   "cell_type": "code",
   "execution_count": null,
   "metadata": {},
   "outputs": [],
   "source": [
    "print(find_closest_intersection_distance(wires))"
   ]
  },
  {
   "cell_type": "markdown",
   "metadata": {},
   "source": [
    "## Part 2"
   ]
  },
  {
   "cell_type": "code",
   "execution_count": null,
   "metadata": {},
   "outputs": [],
   "source": [
    "def generate_wire_visit_set_and_timings(wire_instructions):\n",
    "    pos = (0, 0)\n",
    "    visit_set = {pos}\n",
    "    timings = {}\n",
    "    time = 0\n",
    "    for instruction in wire_instructions:\n",
    "        direction = instruction[0]\n",
    "        count = int(instruction[1:])\n",
    "        if direction == 'U':\n",
    "            for x in range(count):\n",
    "                pos = (pos[0], pos[1] - 1)\n",
    "                time += 1\n",
    "                visit_set.add(pos)\n",
    "                if pos not in timings:\n",
    "                    timings[pos] = time\n",
    "        if direction == 'D':\n",
    "            for x in range(count):\n",
    "                pos = (pos[0], pos[1] + 1)\n",
    "                time += 1\n",
    "                visit_set.add(pos)\n",
    "                if pos not in timings:\n",
    "                    timings[pos] = time\n",
    "        if direction == 'L':\n",
    "            for x in range(count):\n",
    "                pos = (pos[0] - 1, pos[1])\n",
    "                time += 1\n",
    "                visit_set.add(pos)\n",
    "                if pos not in timings:\n",
    "                    timings[pos] = time\n",
    "        if direction == 'R':\n",
    "            for x in range(count):\n",
    "                pos = (pos[0] + 1, pos[1])\n",
    "                time += 1\n",
    "                visit_set.add(pos)\n",
    "                if pos not in timings:\n",
    "                    timings[pos] = time\n",
    "    return visit_set, timings\n",
    "\n",
    "def find_shortest_intersection_time(wires):\n",
    "    visit_set_1, timings_1 = generate_wire_visit_set_and_timings(wires[0])\n",
    "    visit_set_2, timings_2 = generate_wire_visit_set_and_timings(wires[1])\n",
    "    intersections = generate_wire_intersections(visit_set_1, visit_set_2)\n",
    "    intersection_times = [timings_1[p] + timings_2[p] for p in intersections]\n",
    "    return min(intersection_times)\n",
    "\n",
    "test_wires1 = parse_wires_text(\"\"\"R8,U5,L5,D3\n",
    "U7,R6,D4,L4\"\"\")\n",
    "assert find_shortest_intersection_time(test_wires1) == 30\n",
    "\n",
    "test_wires2 = parse_wires_text(\"\"\"R75,D30,R83,U83,L12,D49,R71,U7,L72\n",
    "U62,R66,U55,R34,D71,R55,D58,R83\"\"\")\n",
    "assert find_shortest_intersection_time(test_wires2) == 610\n",
    "\n",
    "test_wires3 = parse_wires_text(\"\"\"R98,U47,R26,D63,R33,U87,L62,D20,R33,U53,R51\n",
    "U98,R91,D20,R16,D67,R40,U7,R15,U6,R7\"\"\")\n",
    "assert find_shortest_intersection_time(test_wires3) == 410"
   ]
  },
  {
   "cell_type": "code",
   "execution_count": null,
   "metadata": {},
   "outputs": [],
   "source": [
    "print(find_shortest_intersection_time(wires))"
   ]
  },
  {
   "cell_type": "code",
   "execution_count": null,
   "metadata": {},
   "outputs": [],
   "source": []
  },
  {
   "cell_type": "code",
   "execution_count": null,
   "metadata": {},
   "outputs": [],
   "source": []
  },
  {
   "cell_type": "code",
   "execution_count": null,
   "metadata": {},
   "outputs": [],
   "source": []
  },
  {
   "cell_type": "code",
   "execution_count": null,
   "metadata": {},
   "outputs": [],
   "source": []
  }
 ],
 "metadata": {
  "kernelspec": {
   "display_name": "Python 3",
   "language": "python",
   "name": "python3"
  },
  "language_info": {
   "codemirror_mode": {
    "name": "ipython",
    "version": 3
   },
   "file_extension": ".py",
   "mimetype": "text/x-python",
   "name": "python",
   "nbconvert_exporter": "python",
   "pygments_lexer": "ipython3",
   "version": "3.6.7"
  }
 },
 "nbformat": 4,
 "nbformat_minor": 2
}
