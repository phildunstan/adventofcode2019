{
 "cells": [
  {
   "cell_type": "markdown",
   "execution_count": null,
   "metadata": {},
   "outputs": [],
   "source": [
    "https://adventofcode.com/2019"
   ]
  },
  {
   "cell_type": "markdown",
   "execution_count": null,
   "metadata": {},
   "outputs": [],
   "source": [
    "# Day 12\n",
    "\n",
    "## Part 1"
   ]
  },
  {
   "cell_type": "code",
   "execution_count": 2,
   "metadata": {},
   "outputs": [],
   "source": [
    "positions_text = \"\"\"<x=12, y=0, z=-15>\n",
    "<x=-8, y=-5, z=-10>\n",
    "<x=7, y=-17, z=1>\n",
    "<x=2, y=-11, z=-6>\"\"\""
   ]
  },
  {
   "cell_type": "code",
   "execution_count": 3,
   "metadata": {},
   "outputs": [],
   "source": [
    "class Moon:\n",
    "    def __init__(self, position):\n",
    "        self.position = position\n",
    "        self.velocity = (0, 0, 0)\n",
    "\n",
    "    def __str__(self):\n",
    "        return \"{} {}\".format(self.position, self.velocity)\n",
    "\n",
    "def parse_positions(positions_text):\n",
    "    moons = []\n",
    "    for row in positions_text.split(sep = '\\n'):\n",
    "        x_str, y_str, z_str = row.split(sep = ',')\n",
    "        x = int(x_str.split(sep = '=')[1])\n",
    "        y = int(y_str.split(sep = '=')[1])\n",
    "        z = int(z_str[:-1].split(sep = '=')[1])\n",
    "        moons.append(Moon((x, y, z)))\n",
    "    return moons\n",
    "        \n",
    "def update_moon_velocity(moon, moons):\n",
    "    for other_moon in moons:\n",
    "        if moon == other_moon:\n",
    "            continue\n",
    "        if other_moon.position[0] < moon.position[0]:\n",
    "            moon.velocity = (moon.velocity[0] - 1, moon.velocity[1], moon.velocity[2])\n",
    "        elif other_moon.position[0] > moon.position[0]:\n",
    "            moon.velocity = (moon.velocity[0] + 1, moon.velocity[1], moon.velocity[2])\n",
    "        if other_moon.position[1] < moon.position[1]:\n",
    "            moon.velocity = (moon.velocity[0], moon.velocity[1] - 1, moon.velocity[2])\n",
    "        elif other_moon.position[1] > moon.position[1]:\n",
    "            moon.velocity = (moon.velocity[0], moon.velocity[1] + 1, moon.velocity[2])\n",
    "        if other_moon.position[2] < moon.position[2]:\n",
    "            moon.velocity = (moon.velocity[0], moon.velocity[1], moon.velocity[2] - 1)\n",
    "        elif other_moon.position[2] > moon.position[2]:\n",
    "            moon.velocity = (moon.velocity[0], moon.velocity[1], moon.velocity[2] + 1)\n",
    "\n",
    "def update_moon_position(moon):\n",
    "    moon.position = (moon.position[0] + moon.velocity[0], moon.position[1] + moon.velocity[1], moon.position[2] + moon.velocity[2])\n",
    "\n",
    "def update_moons(moons):\n",
    "    for moon in moons:\n",
    "        update_moon_velocity(moon, moons)\n",
    "    for moon in moons:\n",
    "        update_moon_position(moon)\n",
    "\n",
    "def simulate_moons(moons, steps):\n",
    "    for step in range(steps):\n",
    "        # print('step {}'.format(step + 1))\n",
    "        update_moons(moons)\n",
    "        # for m in moons:\n",
    "        #     print(m)\n",
    "        # print()\n",
    "\n",
    "\n",
    "def calculate_moon_energy(moon):\n",
    "    pot = abs(moon.position[0]) + abs(moon.position[1]) + abs(moon.position[2])\n",
    "    kin = abs(moon.velocity[0]) + abs(moon.velocity[1]) + abs(moon.velocity[2])\n",
    "    # print((pot, kin))\n",
    "    return pot * kin\n",
    "\n",
    "def calculate_total_moon_energy(moons):\n",
    "    energy = sum(calculate_moon_energy(moon) for moon in moons)\n",
    "    return energy\n"
   ]
  },
  {
   "cell_type": "code",
   "execution_count": 4,
   "metadata": {},
   "outputs": [],
   "source": [
    "test_moons_text = \"\"\"<x=-1, y=0, z=2>\n",
    "<x=2, y=-10, z=-7>\n",
    "<x=4, y=-8, z=8>\n",
    "<x=3, y=5, z=-1>\"\"\"\n",
    "test_moons = parse_positions(test_moons_text)\n",
    "simulate_moons(test_moons, 10)\n",
    "assert calculate_total_moon_energy(test_moons) == 179\n",
    "\n",
    "test_moons_text = \"\"\"<x=-8, y=-10, z=0>\n",
    "<x=5, y=5, z=10>\n",
    "<x=2, y=-7, z=3>\n",
    "<x=9, y=-8, z=-3>\"\"\"\n",
    "test_moons = parse_positions(test_moons_text)\n",
    "simulate_moons(test_moons, 100)\n",
    "assert calculate_total_moon_energy(test_moons) == 1940"
   ]
  },
  {
   "cell_type": "code",
   "execution_count": 5,
   "metadata": {},
   "outputs": [
    {
     "name": "stdout",
     "output_type": "stream",
     "text": "7636\n"
    }
   ],
   "source": [
    "moons = parse_positions(positions_text)\n",
    "simulate_moons(moons, 1000)\n",
    "print(calculate_total_moon_energy(moons))\n"
   ]
  },
  {
   "cell_type": "markdown",
   "execution_count": 3,
   "metadata": {},
   "outputs": [],
   "source": [
    "## Part 2"
   ]
  },
  {
   "cell_type": "code",
   "execution_count": 6,
   "metadata": {},
   "outputs": [
    {
     "ename": "TypeError",
     "evalue": "unhashable type: 'list'",
     "output_type": "error",
     "traceback": [
      "\u001b[1;31m---------------------------------------------------------------------------\u001b[0m",
      "\u001b[1;31mTypeError\u001b[0m                                 Traceback (most recent call last)",
      "\u001b[1;32m<ipython-input-6-e51d9337aa72>\u001b[0m in \u001b[0;36m<module>\u001b[1;34m\u001b[0m\n\u001b[0;32m      1\u001b[0m \u001b[0mmoons\u001b[0m \u001b[1;33m=\u001b[0m \u001b[0mparse_positions\u001b[0m\u001b[1;33m(\u001b[0m\u001b[0mpositions_text\u001b[0m\u001b[1;33m)\u001b[0m\u001b[1;33m\u001b[0m\u001b[1;33m\u001b[0m\u001b[0m\n\u001b[0;32m      2\u001b[0m \u001b[0mmoon_states\u001b[0m \u001b[1;33m=\u001b[0m \u001b[1;33m{\u001b[0m\u001b[1;33m}\u001b[0m\u001b[1;33m\u001b[0m\u001b[1;33m\u001b[0m\u001b[0m\n\u001b[1;32m----> 3\u001b[1;33m \u001b[0mmoon_states\u001b[0m\u001b[1;33m[\u001b[0m\u001b[0mmoons\u001b[0m\u001b[1;33m]\u001b[0m \u001b[1;33m=\u001b[0m \u001b[1;36m0\u001b[0m\u001b[1;33m\u001b[0m\u001b[1;33m\u001b[0m\u001b[0m\n\u001b[0m\u001b[0;32m      4\u001b[0m \u001b[1;32mfor\u001b[0m \u001b[0mstep\u001b[0m \u001b[1;32min\u001b[0m \u001b[0mrange\u001b[0m\u001b[1;33m(\u001b[0m\u001b[1;36m1\u001b[0m\u001b[1;33m,\u001b[0m \u001b[0msteps\u001b[0m \u001b[1;33m+\u001b[0m \u001b[1;36m1\u001b[0m\u001b[1;33m)\u001b[0m\u001b[1;33m:\u001b[0m\u001b[1;33m\u001b[0m\u001b[1;33m\u001b[0m\u001b[0m\n\u001b[0;32m      5\u001b[0m     \u001b[0mupdate_moons\u001b[0m\u001b[1;33m(\u001b[0m\u001b[0mmoons\u001b[0m\u001b[1;33m)\u001b[0m\u001b[1;33m\u001b[0m\u001b[1;33m\u001b[0m\u001b[0m\n",
      "\u001b[1;31mTypeError\u001b[0m: unhashable type: 'list'"
     ]
    }
   ],
   "source": [
    "moons = parse_positions(positions_text)\n",
    "moon_states = {}\n",
    "moon_states[moons] = 0\n",
    "for step in range(1, steps + 1):\n",
    "    update_moons(moons)\n",
    "    if moons in moon_states:\n",
    "        print('duplicate state after {} steps'.format(step))\n",
    "        break\n",
    "    moon_states[moons] = step\n",
    "    # for m in moons:\n",
    "    #     print(m)\n",
    "    # print()\n"
   ]
  },
  {
   "cell_type": "code",
   "execution_count": null,
   "metadata": {},
   "outputs": [],
   "source": []
  }
 ],
 "metadata": {
  "kernelspec": {
   "display_name": "Python 3",
   "language": "python",
   "name": "python3"
  },
  "language_info": {
   "codemirror_mode": {
    "name": "ipython",
    "version": 3
   },
   "file_extension": ".py",
   "mimetype": "text/x-python",
   "name": "python",
   "nbconvert_exporter": "python",
   "pygments_lexer": "ipython3",
   "version": "3.7.5-final"
  }
 },
 "nbformat": 4,
 "nbformat_minor": 2
}