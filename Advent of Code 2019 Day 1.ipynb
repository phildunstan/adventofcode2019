{
 "cells": [
  {
   "cell_type": "markdown",
   "execution_count": null,
   "metadata": {},
   "outputs": [],
   "source": [
    "https://adventofcode.com/2019"
   ]
  },
  {
   "cell_type": "markdown",
   "metadata": {},
   "source": [
    "# Day 1\n",
    "\n",
    "## Part 1"
   ]
  },
  {
   "cell_type": "code",
   "execution_count": 1,
   "metadata": {},
   "outputs": [],
   "source": [
    "module_mass_text = \"\"\"95815\n",
    "58493\n",
    "77277\n",
    "57491\n",
    "124211\n",
    "134530\n",
    "86842\n",
    "63308\n",
    "139649\n",
    "75958\n",
    "74312\n",
    "63413\n",
    "128293\n",
    "118123\n",
    "108576\n",
    "105474\n",
    "50366\n",
    "63203\n",
    "119792\n",
    "147054\n",
    "110863\n",
    "51551\n",
    "101243\n",
    "108123\n",
    "108229\n",
    "76988\n",
    "126344\n",
    "81759\n",
    "74582\n",
    "131239\n",
    "143408\n",
    "53126\n",
    "134275\n",
    "142797\n",
    "61548\n",
    "104641\n",
    "134200\n",
    "103371\n",
    "67804\n",
    "53892\n",
    "94285\n",
    "115017\n",
    "61553\n",
    "66873\n",
    "103186\n",
    "108708\n",
    "71366\n",
    "63572\n",
    "137981\n",
    "72784\n",
    "140697\n",
    "125710\n",
    "121386\n",
    "131305\n",
    "61645\n",
    "81485\n",
    "82042\n",
    "148145\n",
    "75070\n",
    "72671\n",
    "146981\n",
    "124797\n",
    "85756\n",
    "62383\n",
    "147575\n",
    "56740\n",
    "103299\n",
    "63511\n",
    "145914\n",
    "114995\n",
    "73657\n",
    "118481\n",
    "105351\n",
    "102848\n",
    "118796\n",
    "139936\n",
    "112388\n",
    "80794\n",
    "128850\n",
    "92493\n",
    "65409\n",
    "60445\n",
    "124267\n",
    "110438\n",
    "145208\n",
    "96697\n",
    "116439\n",
    "71484\n",
    "71588\n",
    "89813\n",
    "81525\n",
    "88200\n",
    "86443\n",
    "79786\n",
    "131067\n",
    "105919\n",
    "126045\n",
    "135292\n",
    "117451\n",
    "67730\"\"\"\n",
    "module_masses = [int(x) for x in module_mass_text.split()]"
   ]
  },
  {
   "cell_type": "code",
   "execution_count": 2,
   "metadata": {},
   "outputs": [],
   "source": [
    "def calculate_fuel_required_for_mass(mass):\n",
    "        fuel = int(mass / 3) - 2\n",
    "        return fuel\n",
    "    \n",
    "assert calculate_fuel_required_for_mass(1969) == 654\n",
    "assert calculate_fuel_required_for_mass(100756) == 33583\n"
   ]
  },
  {
   "cell_type": "code",
   "execution_count": 3,
   "metadata": {},
   "outputs": [
    {
     "name": "stdout",
     "output_type": "stream",
     "text": "3297909\n"
    }
   ],
   "source": [
    "def calculate_fuel_for_modules(module_masses):\n",
    "    return sum(calculate_fuel_required_for_mass(m) for m in module_masses)\n",
    "\n",
    "print(calculate_fuel_for_modules(module_masses))"
   ]
  },
  {
   "cell_type": "markdown",
   "metadata": {},
   "source": [
    "## Part 2"
   ]
  },
  {
   "cell_type": "code",
   "execution_count": 4,
   "metadata": {},
   "outputs": [
    {
     "name": "stdout",
     "output_type": "stream",
     "text": "4943994\n"
    }
   ],
   "source": [
    "def calculate_fuel_required_for_mass_recursive(mass):\n",
    "    fuel = int(mass / 3) - 2\n",
    "    if fuel <= 0:\n",
    "        return 0\n",
    "    else:\n",
    "        return fuel + calculate_fuel_required_for_mass_recursive(fuel)\n",
    "    \n",
    "def calculate_fuel_required_for_modules_recursive(module_masses):\n",
    "    return sum(calculate_fuel_required_for_mass_recursive(m) for m in module_masses)\n",
    "\n",
    "print(calculate_fuel_required_for_modules_recursive(module_masses))"
   ]
  }
 ],
 "metadata": {
  "kernelspec": {
   "display_name": "Python 3",
   "language": "python",
   "name": "python3"
  },
  "language_info": {
   "codemirror_mode": {
    "name": "ipython",
    "version": 3
   },
   "file_extension": ".py",
   "mimetype": "text/x-python",
   "name": "python",
   "nbconvert_exporter": "python",
   "pygments_lexer": "ipython3",
   "version": "3.7.5-final"
  }
 },
 "nbformat": 4,
 "nbformat_minor": 2
}